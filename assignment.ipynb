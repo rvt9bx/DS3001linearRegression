{
 "cells": [
  {
   "cell_type": "markdown",
   "id": "e0c7b14a-e5aa-4abc-b48b-b8a9d20dacac",
   "metadata": {},
   "source": [
    "# Assignment: Linear Models\n",
    "## Foundations of Machine Learning\n",
    "## Do Q1 and one other question"
   ]
  },
  {
   "cell_type": "markdown",
   "id": "25bf83c6-ff44-42d6-9b33-8be1b945860d",
   "metadata": {},
   "source": [
    "**Q1.** Load `./data/Q1_clean.csv`. The data include\n",
    "\n",
    "- `Price` per night\n",
    "- `Review Scores Rating`: The average rating for the property\n",
    "- `Neighbourhood `: The bourough of NYC. Note the space, or rename the variable.\n",
    "- `Property Type`: The kind of dwelling\n",
    "- `Room Type`: The kind of space being rented\n",
    "\n",
    "1. Compute the average prices and scores by `Neighbourhood `; which bourough is the most expensive on average? Create a kernel density plot of price and log price, grouping by `Neighbourhood `.\n",
    "2. Regress price on `Neighbourhood ` by creating the appropriate dummy/one-hot-encoded variables, without an intercept in the linear model and using all the data. Compare the coefficients in the regression to the table from part 1. What pattern do you see? What are the coefficients in a regression of a continuous variable on one categorical variable?\n",
    "3. Repeat part 2, but leave an intercept in the linear model. How do you have to handle the creation of the dummies differently? What is the intercept? Interpret the coefficients. How can I get the coefficients in part 2 from these new coefficients?\n",
    "4. Split the sample 80/20 into a training and a test set. Run a regression of `Price` on `Review Scores Rating` and `Neighbourhood `. What is the $R^2$ and RMSE on the test set? What is the coefficient on `Review Scores Rating`? What is the most expensive kind of property you can rent?\n",
    "5. Split the sample 80/20 into a training and a test set. Run a regression of `Price` on `Review Scores Rating` and `Neighbourhood ` and `Property Type`. What is the $R^2$ and RMSE on the test set? What is the coefficient on `Review Scores Rating`? What is the most expensive kind of property you can rent?\n",
    "6. What does the coefficient on `Review Scores Rating` mean if it changes from part 4 to 5? Hint: Think about how multilple linear regression works.\n",
    "7. (Optional) We've included `Neighborhood ` and `Property Type` separately in the model. How do you interact them, so you can have \"A bedroom in Queens\" or \"A townhouse in Manhattan\". Split the sample 80/20 into a training and a test set and run a regression including that kind of \"property type X neighborhood\" dummy, plus `Review Scores Rating`. How does the slope coefficient for `Review Scores Rating`, the $R^2$, and the RMSE change? Do they increase significantly compares to part 5? Are the coefficients in this regression just the sum of the coefficients for `Neighbourhood ` and `Property Type` from 5? What is the most expensive kind of property you can rent? "
   ]
  },
  {
   "cell_type": "code",
   "execution_count": 1,
   "id": "0f6a6b22-c443-483e-b8df-83730ec92eda",
   "metadata": {
    "tags": []
   },
   "outputs": [],
   "source": [
    "# import packages \n",
    "import numpy as np\n",
    "import pandas as pd\n",
    "import matplotlib.pyplot as plt\n",
    "import seaborn as sns"
   ]
  },
  {
   "cell_type": "code",
   "execution_count": 2,
   "id": "39c1ef27-252e-4891-b155-574b2fdf7e51",
   "metadata": {
    "tags": []
   },
   "outputs": [],
   "source": [
    "# import data \n",
    "df = pd.read_csv(\"data/Q1_clean.csv\", low_memory=False)"
   ]
  },
  {
   "cell_type": "markdown",
   "id": "8f3d1374-e98e-495d-8a54-42c8c7cb6a30",
   "metadata": {
    "jp-MarkdownHeadingCollapsed": true,
    "tags": []
   },
   "source": [
    "### Pt 1"
   ]
  },
  {
   "cell_type": "code",
   "execution_count": 4,
   "id": "425fbaed-0ba7-46f3-86ec-87f383b9d7ba",
   "metadata": {
    "tags": []
   },
   "outputs": [
    {
     "data": {
      "text/html": [
       "<div>\n",
       "<style scoped>\n",
       "    .dataframe tbody tr th:only-of-type {\n",
       "        vertical-align: middle;\n",
       "    }\n",
       "\n",
       "    .dataframe tbody tr th {\n",
       "        vertical-align: top;\n",
       "    }\n",
       "\n",
       "    .dataframe thead th {\n",
       "        text-align: right;\n",
       "    }\n",
       "</style>\n",
       "<table border=\"1\" class=\"dataframe\">\n",
       "  <thead>\n",
       "    <tr style=\"text-align: right;\">\n",
       "      <th></th>\n",
       "      <th>Neighbourhood</th>\n",
       "      <th>Price</th>\n",
       "      <th>Review Scores Rating</th>\n",
       "    </tr>\n",
       "  </thead>\n",
       "  <tbody>\n",
       "    <tr>\n",
       "      <th>0</th>\n",
       "      <td>Bronx</td>\n",
       "      <td>75.276498</td>\n",
       "      <td>91.654378</td>\n",
       "    </tr>\n",
       "    <tr>\n",
       "      <th>1</th>\n",
       "      <td>Brooklyn</td>\n",
       "      <td>127.747378</td>\n",
       "      <td>92.363497</td>\n",
       "    </tr>\n",
       "    <tr>\n",
       "      <th>2</th>\n",
       "      <td>Manhattan</td>\n",
       "      <td>183.664286</td>\n",
       "      <td>91.801496</td>\n",
       "    </tr>\n",
       "    <tr>\n",
       "      <th>3</th>\n",
       "      <td>Queens</td>\n",
       "      <td>96.857233</td>\n",
       "      <td>91.549057</td>\n",
       "    </tr>\n",
       "    <tr>\n",
       "      <th>4</th>\n",
       "      <td>Staten Island</td>\n",
       "      <td>146.166667</td>\n",
       "      <td>90.843750</td>\n",
       "    </tr>\n",
       "  </tbody>\n",
       "</table>\n",
       "</div>"
      ],
      "text/plain": [
       "  Neighbourhood        Price  Review Scores Rating\n",
       "0          Bronx   75.276498             91.654378\n",
       "1       Brooklyn  127.747378             92.363497\n",
       "2      Manhattan  183.664286             91.801496\n",
       "3         Queens   96.857233             91.549057\n",
       "4  Staten Island  146.166667             90.843750"
      ]
     },
     "execution_count": 4,
     "metadata": {},
     "output_type": "execute_result"
    }
   ],
   "source": [
    "# average prices and scores by neighbourhood\n",
    "df.groupby(['Neighbourhood '], as_index=False).mean(numeric_only=True)"
   ]
  },
  {
   "cell_type": "markdown",
   "id": "f803e6fc-3d25-4a47-9018-c4a1aa837b70",
   "metadata": {},
   "source": [
    "Manhattan is the most expensive borough on average, followed by Staten Island, the least expensive is Queens. "
   ]
  },
  {
   "cell_type": "code",
   "execution_count": 5,
   "id": "c6993bb0-7a7e-4a94-8163-ea1f5403688f",
   "metadata": {
    "tags": []
   },
   "outputs": [
    {
     "data": {
      "image/png": "[encoded data removed]",
      "text/plain": [
       "<Figure size 640x480 with 1 Axes>"
      ]
     },
     "metadata": {},
     "output_type": "display_data"
    },
    {
     "data": {
      "image/png": "[encoded data removed]",
      "text/plain": [
       "<Figure size 640x480 with 1 Axes>"
      ]
     },
     "metadata": {},
     "output_type": "display_data"
    }
   ],
   "source": [
    "# kernel density plot price and log price, grouped by neighbourhood\n",
    "\n",
    "df['Log Price'] = np.log(df['Price'])\n",
    "\n",
    "sns.kdeplot(data=df, x='Price', hue='Neighbourhood ')\n",
    "plt.show()\n",
    "\n",
    "sns.kdeplot(data=df, x='Log Price', hue='Neighbourhood ')\n",
    "plt.show()"
   ]
  },
  {
   "cell_type": "markdown",
   "id": "ba28c84a-0ad7-4c2d-987f-fd27d414a54b",
   "metadata": {
    "jp-MarkdownHeadingCollapsed": true,
    "tags": []
   },
   "source": [
    "### Pt 2"
   ]
  },
  {
   "cell_type": "code",
   "execution_count": 6,
   "id": "76459bae-4d31-452f-8656-e67dbc699519",
   "metadata": {
    "tags": []
   },
   "outputs": [
    {
     "name": "stdout",
     "output_type": "stream",
     "text": [
      "['Bronx' 'Brooklyn' 'Manhattan' 'Queens' 'Staten Island']\n",
      "[ 75.2764977  127.74737834 183.66428632  96.8572327  146.16666667]\n"
     ]
    }
   ],
   "source": [
    "# set y as Price \n",
    "y = df['Price']\n",
    "\n",
    "# regress on neighbourhood dummies\n",
    "X = pd.get_dummies(df['Neighbourhood '], dtype='int')\n",
    "\n",
    "# run regression\n",
    "from sklearn import linear_model\n",
    "reg = linear_model.LinearRegression(fit_intercept=False).fit(X,y)\n",
    "\n",
    "print(reg.feature_names_in_)\n",
    "print(reg.coef_)"
   ]
  },
  {
   "cell_type": "markdown",
   "id": "98b1aaab-2332-46e6-9775-789b9f33ac0c",
   "metadata": {},
   "source": [
    "The coefficients are equal to the average price per borough calculated earlier. "
   ]
  },
  {
   "cell_type": "markdown",
   "id": "2ca1e475-7238-4ddc-843d-97ed24fa8632",
   "metadata": {
    "tags": []
   },
   "source": [
    "### Pt 3"
   ]
  },
  {
   "cell_type": "code",
   "execution_count": 3,
   "id": "40887deb-a5af-46e4-9968-6323551a0a90",
   "metadata": {
    "tags": []
   },
   "outputs": [
    {
     "name": "stdout",
     "output_type": "stream",
     "text": [
      "['Brooklyn' 'Manhattan' 'Queens' 'Staten Island']\n",
      "[ 52.47088065 108.38778863  21.58073501  70.89016897]\n",
      "75.27649769585337\n"
     ]
    }
   ],
   "source": [
    "# set y as Price \n",
    "y = df['Price']\n",
    "\n",
    "# regress on neighbourhood dummies\n",
    "X = pd.get_dummies(df['Neighbourhood '], dtype='int',drop_first = True)\n",
    "\n",
    "# run regression\n",
    "from sklearn import linear_model\n",
    "reg = linear_model.LinearRegression(fit_intercept=True).fit(X,y)\n",
    "\n",
    "print(reg.feature_names_in_)\n",
    "print(reg.coef_)\n",
    "print(reg.intercept_)"
   ]
  },
  {
   "cell_type": "markdown",
   "id": "e4eb8142-4323-4793-8608-9f26ed8641cc",
   "metadata": {},
   "source": [
    "When you have an intercept in the model, you have to drop the first dummy category. \n",
    "The coefficients in part 2 are equal to the intercept from pt 3 plus the coefficients from pt 3, because it is the same thing shifted over one dummy category. "
   ]
  },
  {
   "cell_type": "markdown",
   "id": "e5280c1e-f394-4dfe-a5ad-d77ec9fc719d",
   "metadata": {
    "tags": []
   },
   "source": [
    "### Pt 4"
   ]
  },
  {
   "cell_type": "code",
   "execution_count": 16,
   "id": "ff981fec-5bc2-479c-a2fb-fa16226b261c",
   "metadata": {
    "tags": []
   },
   "outputs": [],
   "source": [
    "# split into 80/20 training and test set\n",
    "from sklearn.model_selection import train_test_split\n",
    "y = df['Price']\n",
    "X = df.loc[:,['Neighbourhood ','Review Scores Rating']]\n",
    "X_train, X_test, y_train, y_test = train_test_split(X,y, test_size=.2, random_state=100)\n",
    "\n",
    "# get dummies \n",
    "X_train = pd.concat([pd.get_dummies(X_train['Neighbourhood '], dtype='int'),X_train['Review Scores Rating']],axis=1)\n",
    "X_test = pd.concat([pd.get_dummies(X_test['Neighbourhood '], dtype='int'),X_test['Review Scores Rating']],axis=1)"
   ]
  },
  {
   "cell_type": "code",
   "execution_count": 17,
   "id": "c4c3eeed-3e90-42d1-bfb2-2b97cd530c51",
   "metadata": {},
   "outputs": [
    {
     "name": "stdout",
     "output_type": "stream",
     "text": [
      "['Bronx' 'Brooklyn' 'Manhattan' 'Queens' 'Staten Island'\n",
      " 'Review Scores Rating']\n",
      "[-17.26139174  32.18088846  89.42102023   4.05020819  61.57639312\n",
      "   1.03225688]\n",
      "0.06701086106947296\n",
      "125.01092061382933\n"
     ]
    }
   ],
   "source": [
    "# regression of price\n",
    "\n",
    "reg = linear_model.LinearRegression(fit_intercept=False).fit(X_train,y_train)\n",
    "\n",
    "# get coefficients \n",
    "print(reg.feature_names_in_)\n",
    "print(reg.coef_)\n",
    "\n",
    "# get R2 and RMSE\n",
    "y_hat = reg.predict(X_test)\n",
    "print(reg.score(X_test,y_test)) # R2\n",
    "rmse = np.sqrt( np.mean( (y_test - y_hat)**2 ))\n",
    "print(rmse) # RMSE"
   ]
  },
  {
   "cell_type": "markdown",
   "id": "7ba3f9d9-db18-4276-9205-0a0f70ad121c",
   "metadata": {},
   "source": [
    "The R^2 value on the test data for this model is approximately 0.067. \\\n",
    "The RMSE on the test data for this model is approximately 125.0109. \\\n",
    "The coefficient for Review Scores Rating is 1.0323. \\\n",
    "The most expensive place to rent would be a 100 rated property in Manhattan for about 100(1.0323) + 1(89.4210) = about 192.651, so it would be about 192.65 dollars a night. "
   ]
  },
  {
   "cell_type": "markdown",
   "id": "a2163d7f-bb94-4c73-8ef7-7abcb8716d35",
   "metadata": {
    "tags": []
   },
   "source": [
    "### Pt 5"
   ]
  },
  {
   "cell_type": "code",
   "execution_count": 14,
   "id": "94aa7cae-6bed-4ec1-9d0b-dd79f2ed5cac",
   "metadata": {
    "tags": []
   },
   "outputs": [],
   "source": [
    "# split into 80/20 training and test set\n",
    "from sklearn.model_selection import train_test_split\n",
    "y = df['Price']\n",
    "X = df.loc[:,['Neighbourhood ','Review Scores Rating','Room Type']]\n",
    "X_train, X_test, y_train, y_test = train_test_split(X,y, test_size=.2, random_state=100)\n",
    "\n",
    "# get dummies \n",
    "X_train = pd.concat([pd.get_dummies(X_train['Neighbourhood '], dtype='int'),X_train['Review Scores Rating'], pd.get_dummies(X_train['Room Type'], dtype='int')],axis=1)\n",
    "X_test = pd.concat([pd.get_dummies(X_test['Neighbourhood '], dtype='int'),\n",
    "                    X_test['Review Scores Rating'],\n",
    "                    pd.get_dummies(X_test['Room Type'], dtype='int')],axis=1)"
   ]
  },
  {
   "cell_type": "code",
   "execution_count": 15,
   "id": "5980e31a-a4fa-47f2-8c9f-6fa06d0bb286",
   "metadata": {
    "tags": []
   },
   "outputs": [
    {
     "name": "stdout",
     "output_type": "stream",
     "text": [
      "['Bronx' 'Brooklyn' 'Manhattan' 'Queens' 'Staten Island'\n",
      " 'Review Scores Rating' 'Entire home/apt' 'Private room' 'Shared room']\n",
      "[-13.02276464  10.37845573  53.69330386  -6.83332984  50.0030217\n",
      "   0.62691227 110.61781998   3.10134084 -19.500474  ]\n",
      "0.22035348129282328\n",
      "114.27692123130632\n"
     ]
    }
   ],
   "source": [
    "# regression of price\n",
    "\n",
    "reg = linear_model.LinearRegression(fit_intercept=False).fit(X_train,y_train)\n",
    "\n",
    "# get coefficients \n",
    "print(reg.feature_names_in_)\n",
    "print(reg.coef_)\n",
    "\n",
    "# get R2 and RMSE\n",
    "y_hat = reg.predict(X_test)\n",
    "print(reg.score(X_test,y_test)) # R2\n",
    "rmse = np.sqrt( np.mean( (y_test - y_hat)**2 ))\n",
    "print(rmse) # RMSE"
   ]
  },
  {
   "cell_type": "markdown",
   "id": "c2330943-cdf9-47f0-b6f1-36bb48e584c4",
   "metadata": {},
   "source": [
    "The R^2 value on the test data for this model is approximately 0.2204. \\\n",
    "The RMSE on the test data for this model is approximately 114.2769. \\\n",
    "The coefficient for Review Scores Rating is 0.6269. \\\n",
    "The most expensive place to rent would be a 100 rated entire home / apt in Manhattan for about 100(0.6269) + 1(53.6933) + 1(110.6178) = about 227.0011, so it would be about 227 dollars a night. "
   ]
  },
  {
   "cell_type": "markdown",
   "id": "82f6f29e-1c35-47c2-bfca-9b7182c42e3e",
   "metadata": {},
   "source": [
    "### Pt 6"
   ]
  },
  {
   "cell_type": "markdown",
   "id": "1790c83a-645e-417a-8b22-ef2458f2619a",
   "metadata": {},
   "source": [
    "From part 4 to part 5, the coefficient for Review Scores Rating changes from 1.0323 to 0.6269. This means that in the pt 4 model, a 1 point increase in Review Scores Rating results in a 1.0323 dollar increase in predicted price. And in the pt 5 model, a 1 point increase in Review Scores Rating results in a 0.6269 dollar increase in predicted price. This is because the model in part 4 has fewer variables (no room type) which means that in pt 5 some of the variation in price can now be explained by the coefficients on room type. Thus in pt 5, Review Scores Rating determines less variation in price, so its coefficent decreases. "
   ]
  },
  {
   "cell_type": "markdown",
   "id": "c21821c7-1542-40a2-b3c3-4c9bff8236d4",
   "metadata": {},
   "source": [
    "### Pt 7"
   ]
  },
  {
   "cell_type": "markdown",
   "id": "95f22300-0180-4ed2-be8f-ed56cf4cd36b",
   "metadata": {},
   "source": [
    "**Q2.** This question is a case study for linear models. The data are about car prices. In particular, they include:\n",
    "\n",
    "  - `Price`, `Color`, `Seating_Capacity`\n",
    "  - `Body_Type`: crossover, hatchback, muv, sedan, suv \n",
    "  - `Make`, `Make_Year`: The brand of car and year produced\n",
    "  - `Mileage_Run`: The number of miles on the odometer\n",
    "  - `Fuel_Type`: Diesel or gasoline/petrol\n",
    "  - `Transmission`, `Transmission_Type`:  speeds and automatic/manual\n",
    "\n",
    "  1. Load `cars_hw.csv`. These data were really dirty, and I've already cleaned them a significant amount in terms of missing values and other issues, but some issues remain (e.g. outliers, badly scaled variables that require a log or arcsinh transformation). Clean the data however you think is most appropriate.\n",
    "  2. Summarize the `Price` variable and create a kernel density plot. Use `.groupby()` and `.describe()` to summarize prices by brand (`Make`). Make a grouped kernel density plot by `Make`. Which car brands are the most expensive? What do prices look like in general?\n",
    "  3. Split the data into an 80% training set and a 20% testing set.\n",
    "  4. Make a model where you regress price on the numeric variables alone; what is the $R^2$ and `RMSE` on the training set and test set? Make a second model where, for the categorical variables, you regress price on a model comprised of one-hot encoded regressors/features alone (you can use `pd.get_dummies()`; be careful of the dummy variable trap); what is the $R^2$ and `RMSE` on the test set? Which model performs better on the test set? Make a third model that combines all the regressors from the previous two; what is the $R^2$ and `RMSE` on the test set? Does the joint model perform better or worse, and by home much?\n",
    "  5. Use the `PolynomialFeatures` function from `sklearn` to expand the set of numerical variables you're using in the regression. As you increase the degree of the expansion, how do the $R^2$ and `RMSE` change? At what point does $R^2$ go negative on the test set? For your best model with expanded features, what is the $R^2$ and `RMSE`? How does it compare to your best model from part 4?\n",
    "  6. For your best model so far, determine the predicted values for the test data and plot them against the true values. Do the predicted values and true values roughly line up along the diagonal, or not? Compute the residuals/errors for the test data and create a kernel density plot. Do the residuals look roughly bell-shaped around zero? Evaluate the strengths and weaknesses of your model."
   ]
  },
  {
   "cell_type": "markdown",
   "id": "7bd15c6b-4c7c-4230-a199-e03e1054ec6a",
   "metadata": {},
   "source": [
    "**Q3.** This is a question about linear regression. The outcome is whether a defendant is held pre-trial in the Virginia justice system. We would like to understand how that outcome is predicted by characteristics of the defendant, particularly race. Let's be very careful/clear: We aren't saying anyone *should* be held without bond or asserting that people with different demographic variables *should* be more likely to be held, but instead trying to predict whether people with different characteristics *are empirically more likely* to be held without bond, given the available information. This is the first step we would take in investigating whether a system is fair, or how large the disparities are: Does it treat people with similar observable characteristics similarly, or not? We are going to look at a common question: Are Black defendants treated differently from white or Asian ones? (There are Native American defendants, but there are 11 in total, which is such a small number of observations that is difficult to clearly say anything about how this group is treated relative to the others.)\n",
    "\n",
    "The variables in the data are:\n",
    "\n",
    "  - `held_wo_bail`: Whether a defendant is held without bail before trial (Boolean logical)\n",
    "  - `race`, `sex`: Categorical demographic variables\n",
    "  - `is_poor`: Whether the defendant is classified as indigent \n",
    "  - `prior_F`, `prior_M`: The number of prior felony and misdemeanor arrests\n",
    "  - `case_type`: A categorical variable indicating a misdemeanor `M` or felony `F` or infraction `I` or special case `S`\n",
    "  - `age`: Defendant's age\n",
    "  - `bond`, `bond_NA`, `bond_type`: The amount of any bond, whether it is missing, and the type\n",
    "  - `sentence`, `sentence_NA`, `sentence_type`: The length of any sentence, whether it is missing, and the type\n",
    "\n",
    "1. Load the `pretrial_data.csv` data. Notice that there are `nan`s, but the data are relatively clean. Because there are `.nan`s among variables you won't use, you'll want to narrow down your analysis to the relevant variables before dropping or imputing missing values.\n",
    "2. Create a dummy variable indicating that the defendant is Black.\n",
    "3. Regress `held` on `Black`. What is the slope coefficient Interpret the coefficient on the Black dummy variable: How much more likely is a black person to be held without bail? What is the $R^2$ of the model?\n",
    "4. Before doing this question, please think for a few minutes about how to make the process of running the following regressions as efficient as possible, before jumping into writing code. Repeat part 2, for the following specifications, keeping track of the coefficient on the Black dummy variable each time:\n",
    "      - `held` on `Black` and `sex`\n",
    "      - `held` on `Black` and `sex` and `is_poor`\n",
    "      - `held` on `Black` and `sex` and `is_poor` and `prior_F`\n",
    "      - `held` on `Black` and `sex` and `is_poor` and `prior_F` and `case_type`\n",
    "What happens to the coefficient on the Black dummy variable as you include more regressors/features/controls in the regression? Explain your findings.\n",
    "5. Suppose we don't want to see just `Black` and `sex`, but `Black` interacted with `sex`: Are Black men and Black women treated systemically differently from the rest of the population? Implement this in a regression, and explain your findings.\n",
    "6. Imagine someone argued we should use these kinds of models to help a judge or magistrate make bail decisions (you could obviously go back and make this kind of model for the bond and sentence variables, then deploy it on new cases to predict what their bond and sentence values would be). What concerns would you have? Do you think society should be using data-driven and automated tools like that? Explain your concerns clearly."
   ]
  },
  {
   "cell_type": "markdown",
   "id": "70a25887-bec9-4c65-98f4-027b25c4ee86",
   "metadata": {},
   "source": [
    "### Pt 1"
   ]
  },
  {
   "cell_type": "code",
   "execution_count": 51,
   "id": "f863dcb0-304f-4209-af4e-e34352c99416",
   "metadata": {
    "tags": []
   },
   "outputs": [],
   "source": [
    "# load data \n",
    "trial_df = pd.read_csv(\"data/pretrial_data.csv\",low_memory=False)"
   ]
  },
  {
   "cell_type": "code",
   "execution_count": 52,
   "id": "f4141aad-6c70-4b0c-ba15-fb109937815f",
   "metadata": {
    "tags": []
   },
   "outputs": [],
   "source": [
    "# subset relevant variables \n",
    "vars = ['held_wo_bail', 'race', 'sex', 'is_poor', 'prior_F', 'case_type']\n",
    "t_df = trial_df.loc[:,vars]"
   ]
  },
  {
   "cell_type": "code",
   "execution_count": 53,
   "id": "76cc46f4-2106-4e40-953d-257f4d1b85a5",
   "metadata": {
    "tags": []
   },
   "outputs": [],
   "source": [
    "# drop nans\n",
    "t_df = t_df.dropna()"
   ]
  },
  {
   "cell_type": "markdown",
   "id": "7b297b3a-227a-4ad7-aef9-5d7b416276b8",
   "metadata": {},
   "source": [
    "### Pt 2"
   ]
  },
  {
   "cell_type": "code",
   "execution_count": 54,
   "id": "6fd0fe8b-8e5a-4c3e-b653-70889aeec26f",
   "metadata": {
    "tags": []
   },
   "outputs": [],
   "source": [
    "# Black dummy variable \n",
    "t_df['black'] = t_df['race'] == 'B'\n",
    "t_df['black'] = t_df['black'].astype(int)"
   ]
  },
  {
   "cell_type": "markdown",
   "id": "9608f9b2-9e83-44a3-a42d-8ffbfc06b84c",
   "metadata": {},
   "source": [
    "### Pt 3"
   ]
  },
  {
   "cell_type": "code",
   "execution_count": 29,
   "id": "95247482-3068-470f-8fe2-525eb127cbfc",
   "metadata": {
    "tags": []
   },
   "outputs": [
    {
     "name": "stdout",
     "output_type": "stream",
     "text": [
      "['black']\n",
      "[0.30540143]\n",
      "-0.16612105659228926\n"
     ]
    }
   ],
   "source": [
    "# run regression\n",
    "from sklearn import linear_model\n",
    "\n",
    "y = t_df['held_wo_bail']\n",
    "X = t_df.loc[:,['black']]\n",
    "\n",
    "reg = linear_model.LinearRegression(fit_intercept=False).fit(X,y)\n",
    "\n",
    "# get coefficients \n",
    "print(reg.feature_names_in_)\n",
    "print(reg.coef_)\n",
    "\n",
    "# get R2 \n",
    "print(reg.score(X,y)) # R2"
   ]
  },
  {
   "cell_type": "markdown",
   "id": "8495cebf-9819-4d06-a45d-8c8f4d8612bb",
   "metadata": {},
   "source": [
    "It is 30% more likely for a black person to be held without bail. \n",
    "The R^2 on the entire sample (no train/test split) is -0.166 which means this model is worse at predicting than using the mean. "
   ]
  },
  {
   "cell_type": "markdown",
   "id": "19994db9-8651-4c37-aff6-e9166adf35d3",
   "metadata": {},
   "source": [
    "### Pt 4"
   ]
  },
  {
   "cell_type": "code",
   "execution_count": 55,
   "id": "8c12b8fc-2dfb-4099-8dfe-fa3a44f56dd4",
   "metadata": {
    "tags": []
   },
   "outputs": [],
   "source": [
    "# make all dummies\n",
    "sex_dum = pd.get_dummies(t_df['sex'],dtype='int').rename({'F':'female','M':'male'}, axis=1)\n",
    "case_type_dum = pd.get_dummies(t_df['case_type'],dtype='int').rename({'F':'felony','M':'misdemeanor','I':'infraction','S':'special_case'}, axis=1)\n",
    "\n",
    "# add dummies into df \n",
    "t_df = pd.concat([t_df,sex_dum,case_type_dum],axis=1)\n",
    "\n",
    "# drop categorical vars \n",
    "t_df = t_df.drop(['race','sex','case_type'],axis = 1)"
   ]
  },
  {
   "cell_type": "code",
   "execution_count": 57,
   "id": "dcd14af0-3285-466d-bebd-ba908b90bdce",
   "metadata": {
    "tags": []
   },
   "outputs": [
    {
     "name": "stdout",
     "output_type": "stream",
     "text": [
      "['black' 'female' 'male']\n",
      "[0.06111762 0.16735214 0.26917821]\n",
      "0.016049279662710525\n"
     ]
    }
   ],
   "source": [
    "# black and sex\n",
    "vars = ['black','female','male']\n",
    "\n",
    "y = t_df['held_wo_bail']\n",
    "X = t_df.loc[:,vars]\n",
    "\n",
    "reg = linear_model.LinearRegression(fit_intercept=False).fit(X,y)\n",
    "\n",
    "# get coefficients \n",
    "print(reg.feature_names_in_)\n",
    "print(reg.coef_)\n",
    "\n",
    "# get R2 \n",
    "print(reg.score(X,y)) # R2"
   ]
  },
  {
   "cell_type": "code",
   "execution_count": 58,
   "id": "b56bdf93-6224-4d4e-9777-8f8f30f170f9",
   "metadata": {
    "tags": []
   },
   "outputs": [
    {
     "name": "stdout",
     "output_type": "stream",
     "text": [
      "['black' 'female' 'male' 'is_poor']\n",
      "[0.03452532 0.07870068 0.19401826 0.18550336]\n",
      "0.059019899423822464\n"
     ]
    }
   ],
   "source": [
    "# black and sex and is_poor\n",
    "vars = ['black','female','male','is_poor']\n",
    "\n",
    "y = t_df['held_wo_bail']\n",
    "X = t_df.loc[:,vars]\n",
    "\n",
    "reg = linear_model.LinearRegression(fit_intercept=False).fit(X,y)\n",
    "\n",
    "# get coefficients \n",
    "print(reg.feature_names_in_)\n",
    "print(reg.coef_)\n",
    "\n",
    "# get R2 \n",
    "print(reg.score(X,y)) # R2"
   ]
  },
  {
   "cell_type": "code",
   "execution_count": 59,
   "id": "7074519c-256f-460e-874a-da103e3a9556",
   "metadata": {
    "tags": []
   },
   "outputs": [
    {
     "name": "stdout",
     "output_type": "stream",
     "text": [
      "['black' 'female' 'male' 'is_poor' 'prior_F']\n",
      "[0.02487868 0.067477   0.16554344 0.16751732 0.02624561]\n",
      "0.10098281342018356\n"
     ]
    }
   ],
   "source": [
    "# black and sex and is_poor and prior_F\n",
    "vars = ['black','female','male','is_poor','prior_F']\n",
    "\n",
    "y = t_df['held_wo_bail']\n",
    "X = t_df.loc[:,vars]\n",
    "\n",
    "reg = linear_model.LinearRegression(fit_intercept=False).fit(X,y)\n",
    "\n",
    "# get coefficients \n",
    "print(reg.feature_names_in_)\n",
    "print(reg.coef_)\n",
    "\n",
    "# get R2 \n",
    "print(reg.score(X,y)) # R2"
   ]
  },
  {
   "cell_type": "code",
   "execution_count": 60,
   "id": "13d0ead3-137d-45b5-90a8-38475172898f",
   "metadata": {
    "tags": []
   },
   "outputs": [
    {
     "name": "stdout",
     "output_type": "stream",
     "text": [
      "['black' 'female' 'male' 'is_poor' 'prior_F' 'felony' 'misdemeanor'\n",
      " 'infraction' 'special_case']\n",
      "[ 0.01846038  0.07351127  0.15823225  0.07342602  0.01639666  0.32498056\n",
      " -0.0965479  -0.18390183  0.18721269]\n",
      "0.2773936155470892\n"
     ]
    }
   ],
   "source": [
    "# black and sex and is_poor and prior_F and case_type\n",
    "vars = ['black','female','male','is_poor','prior_F','felony','misdemeanor','infraction','special_case']\n",
    "\n",
    "y = t_df['held_wo_bail']\n",
    "X = t_df.loc[:,vars]\n",
    "\n",
    "reg = linear_model.LinearRegression(fit_intercept=False).fit(X,y)\n",
    "\n",
    "# get coefficients \n",
    "print(reg.feature_names_in_)\n",
    "print(reg.coef_)\n",
    "\n",
    "# get R2 \n",
    "print(reg.score(X,y)) # R2"
   ]
  },
  {
   "cell_type": "markdown",
   "id": "3aa81083-d87d-4a95-b535-5092acc71a6c",
   "metadata": {},
   "source": [
    "As you include more variables in the regression, the coefficient on 'black' decreases, from 0.3 in pt 3 to 0.01 in the final regression. This is because some of the variation in held_wo_bail is determined by the other variables. "
   ]
  },
  {
   "cell_type": "markdown",
   "id": "1ba367c0-4745-499b-9f3d-148c232b9c99",
   "metadata": {},
   "source": [
    "### Pt 5"
   ]
  },
  {
   "cell_type": "code",
   "execution_count": 67,
   "id": "5ddea6be-5399-4309-96ab-a824c3ce20cd",
   "metadata": {
    "tags": []
   },
   "outputs": [
    {
     "data": {
      "text/html": [
       "<div>\n",
       "<style scoped>\n",
       "    .dataframe tbody tr th:only-of-type {\n",
       "        vertical-align: middle;\n",
       "    }\n",
       "\n",
       "    .dataframe tbody tr th {\n",
       "        vertical-align: top;\n",
       "    }\n",
       "\n",
       "    .dataframe thead th {\n",
       "        text-align: right;\n",
       "    }\n",
       "</style>\n",
       "<table border=\"1\" class=\"dataframe\">\n",
       "  <thead>\n",
       "    <tr style=\"text-align: right;\">\n",
       "      <th></th>\n",
       "      <th>black male</th>\n",
       "      <th>black female</th>\n",
       "      <th>other male</th>\n",
       "      <th>other female</th>\n",
       "    </tr>\n",
       "  </thead>\n",
       "  <tbody>\n",
       "    <tr>\n",
       "      <th>0</th>\n",
       "      <td>1.0</td>\n",
       "      <td>0.0</td>\n",
       "      <td>0.0</td>\n",
       "      <td>0.0</td>\n",
       "    </tr>\n",
       "    <tr>\n",
       "      <th>1</th>\n",
       "      <td>0.0</td>\n",
       "      <td>0.0</td>\n",
       "      <td>0.0</td>\n",
       "      <td>1.0</td>\n",
       "    </tr>\n",
       "    <tr>\n",
       "      <th>2</th>\n",
       "      <td>1.0</td>\n",
       "      <td>0.0</td>\n",
       "      <td>0.0</td>\n",
       "      <td>0.0</td>\n",
       "    </tr>\n",
       "    <tr>\n",
       "      <th>3</th>\n",
       "      <td>0.0</td>\n",
       "      <td>1.0</td>\n",
       "      <td>0.0</td>\n",
       "      <td>0.0</td>\n",
       "    </tr>\n",
       "    <tr>\n",
       "      <th>4</th>\n",
       "      <td>1.0</td>\n",
       "      <td>0.0</td>\n",
       "      <td>0.0</td>\n",
       "      <td>0.0</td>\n",
       "    </tr>\n",
       "  </tbody>\n",
       "</table>\n",
       "</div>"
      ],
      "text/plain": [
       "   black male  black female  other male  other female\n",
       "0         1.0           0.0         0.0           0.0\n",
       "1         0.0           0.0         0.0           1.0\n",
       "2         1.0           0.0         0.0           0.0\n",
       "3         0.0           1.0         0.0           0.0\n",
       "4         1.0           0.0         0.0           0.0"
      ]
     },
     "execution_count": 67,
     "metadata": {},
     "output_type": "execute_result"
    }
   ],
   "source": [
    "from sklearn.preprocessing import PolynomialFeatures\n",
    "t_df['other'] = (t_df['black']==False).astype(int)\n",
    "expander = PolynomialFeatures(degree=2,include_bias=False) # Create the expander\n",
    "Z = expander.fit_transform(t_df.loc[:,['black','other','male','female']]) # Pass the df into the expander to get powers/interactions of x and y\n",
    "names = expander.get_feature_names_out() # Get the names of these variables\n",
    "zdf = pd.DataFrame(data=Z, columns = names).loc[:,['black male','black female','other male','other female']] # Create a new, expanded dataframe\n",
    "zdf.head()"
   ]
  },
  {
   "cell_type": "code",
   "execution_count": 68,
   "id": "dcdf71a7-9f18-4981-bab7-85ea19600c06",
   "metadata": {
    "tags": []
   },
   "outputs": [
    {
     "name": "stdout",
     "output_type": "stream",
     "text": [
      "['black male' 'black female' 'other male' 'other female']\n",
      "[0.34772182 0.17461788 0.25602444 0.19839786]\n",
      "0.019258013319620515\n"
     ]
    }
   ],
   "source": [
    "y = t_df['held_wo_bail']\n",
    "X = zdf\n",
    "\n",
    "reg = linear_model.LinearRegression(fit_intercept=False).fit(X,y)\n",
    "\n",
    "# get coefficients \n",
    "print(reg.feature_names_in_)\n",
    "print(reg.coef_)\n",
    "\n",
    "# get R2 \n",
    "print(reg.score(X,y)) # R2"
   ]
  },
  {
   "cell_type": "markdown",
   "id": "708fec0f-3318-4f89-940f-0c04458625ff",
   "metadata": {},
   "source": [
    "According to this regression, black females actually are the least likely to be held without bail with a probability of 0.17, and black males are the most likely to be held without bail, with a probability of 0.35. The others fall between these, with other females being held without bail with a predicted probability of 0.2, and other males being held with a probability of 0.26. "
   ]
  },
  {
   "cell_type": "markdown",
   "id": "ea3d9465-7525-4cb9-a592-f1980061c39f",
   "metadata": {
    "tags": []
   },
   "source": [
    "### Pt 6"
   ]
  },
  {
   "cell_type": "markdown",
   "id": "585fcf67-4197-43fd-8133-3ec100d29a84",
   "metadata": {},
   "source": [
    "One concern I have is that every data-driven model like this one is based on past cases. If we are trying to automate something in order make it unbiased, but the original data we base the model off of is already biased in some way, then the predictions the model will make will continue to be biased. In this case, the justice system will continue to be biased. \n",
    "\n",
    "Also, as we have discussed, no model is perfect, and thus making decisions based on only data-driven and automated tools will not be able to account for everything, especially complicated conditions or unforseen circumstances. Thus I think that models can be made and interpreted with a grain of salt in order to make decisions, not taken as 100% or a word of law. "
   ]
  },
  {
   "cell_type": "markdown",
   "id": "d0bedb79-b3d9-4db3-9b30-b92c9b618cec",
   "metadata": {},
   "source": [
    "**Q4.** This is a math question to review the derivation of the OLS estimator (but only if you are into that kind of thing!). We are going to do it slightly differently from what we did in class, though. We will use a linear predictor and minimize the Sum of Squared Errors, just as in class. But, we are going to de-mean $X$ first, creating another variable $z_i = x_i - \\bar{x}$ where \n",
    "$$\n",
    "\\bar{x} = \\dfrac{1}{N} \\sum_{i=1}^N x_i,\n",
    "$$\n",
    "so the model is $\\hat{y}_i = a + b z_i$ and the `SSE` is\n",
    "$$\n",
    "\\text{SSE}(a,b) = \\sum_{i=1}^N (y_i - a - bz_i)^2.\n",
    "$$\n",
    "\n",
    "  1. Take partial derivatives of the `SSE` with respect to $a$ and $b$. You should get\n",
    "\n",
    "\\begin{alignat*}{3}\n",
    "\\sum_{i=1}^N -2(y_i - a- bz_i) &=& 0 \\\\\n",
    "\\sum_{i=1}^N -2(y_i - a - bz_i)z_i &=& 0.\n",
    "\\end{alignat*}\n",
    "\n",
    "  2. Solve for the solutions to the above equations. Big hint: $\\bar{z} = 0$, since we subtracted the mean of $x$ from $x$ to get $z$. You should get\n",
    "\n",
    "\\begin{alignat*}{3}\n",
    "a^* &=& \\bar{y} \\\\\n",
    "b^* &=& \\dfrac{\\sum_{i=1}^N(y_i - \\bar{y})z_i}{\\sum_{i=1}^N z_i^2}.\n",
    "\\end{alignat*}\n",
    "\n",
    "  3. Substitute $z_i = x_i - \\bar{x}$ back into the above equations. You should get\n",
    "  \n",
    "\\begin{alignat*}{3}\n",
    "a^* &=& \\bar{y} \\\\\n",
    "b^* &=& \\dfrac{\\sum_{i=1}^N(y_i - \\bar{y})(x_i-\\bar{x})}{\\sum_{i=1}^N (x_i-\\bar{x})^2},\n",
    "\\end{alignat*}\n",
    "\n",
    "which can be written in terms of sample covariance and sample variance as:\n",
    "\n",
    "\\begin{alignat*}{3}\n",
    "a^* &=& \\bar{y} \\\\\n",
    "b^* &=& \\dfrac{\\text{cov}(x,y)}{\\text{var}(x)}.\n",
    "\\end{alignat*}\n",
    "\n",
    "This is typically the preferred way of expressing the OLS coefficients.\n",
    "\n",
    "4. When will $b^*$ be large or small, depending on the relationship between $x$ and $y$ and the amount of \"noise\"/variance in $x$? What does $a^*$ represent?\n",
    "5. Suppose you have measurement error in $x$ which artificially inflates its variance (e.g. bad data cleaning). What happens to the $b^*$ coefficient? How will affect your ability to predict? (This phenomenon is called **attenuation**.)"
   ]
  },
  {
   "cell_type": "markdown",
   "id": "b67478ac-ad78-4a44-9720-583c71b8da14",
   "metadata": {},
   "source": [
    "**Q5.** \n",
    "1. Find a dataset on a topic you're interested in. Some easy options are data.gov, kaggle.com, and data.world.\n",
    "2. Clean the data and do some exploratory data analysis on key variables that interest you. Pick a particular target/outcome variable and features/predictors.\n",
    "3. Split the sample into an ~80% training set and a ~20% test set.\n",
    "4. Run a few regressions of your target/outcome variable on a variety of features/predictors. Compute the SSE on the test set.\n",
    "5. Which model performed the best, and why?\n",
    "6. What did you learn?"
   ]
  }
 ],
 "metadata": {
  "kernelspec": {
   "display_name": "Python 3 (ipykernel)",
   "language": "python",
   "name": "python3"
  },
  "language_info": {
   "codemirror_mode": {
    "name": "ipython",
    "version": 3
   },
   "file_extension": ".py",
   "mimetype": "text/x-python",
   "name": "python",
   "nbconvert_exporter": "python",
   "pygments_lexer": "ipython3",
   "version": "3.11.4"
  }
 },
 "nbformat": 4,
 "nbformat_minor": 5
}
